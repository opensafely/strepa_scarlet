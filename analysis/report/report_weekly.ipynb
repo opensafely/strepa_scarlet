{
 "cells": [
  {
   "attachments": {},
   "cell_type": "markdown",
   "metadata": {},
   "source": [
    "# Scarlet fever and invasive group A strep cases during the COVID-19 pandemic: 2022-09-01 through 2023-01-20 by week"
   ]
  },
  {
   "cell_type": "code",
   "execution_count": null,
   "metadata": {},
   "outputs": [],
   "source": [
    "from IPython.display import Markdown\n",
    "\n",
    "from report_utils import (\n",
    "    display_event_counts,\n",
    "    display_image,\n",
    "    display_top_5,\n",
    "    RESULTS_DIR,\n",
    "    WEEKLY_RESULTS_DIR,\n",
    ")\n"
   ]
  },
  {
   "attachments": {},
   "cell_type": "markdown",
   "metadata": {},
   "source": [
    "## Prescribing\n",
    "\n",
    "Below are the prescribing counts and rates for different antibiotics.\n"
   ]
  },
  {
   "cell_type": "code",
   "execution_count": null,
   "metadata": {},
   "outputs": [],
   "source": [
    "display_image(\"medications_bar_measures_count.jpeg\", dir=WEEKLY_RESULTS_DIR)\n",
    "display_image(\"medications_bar_measures.jpeg\", dir=WEEKLY_RESULTS_DIR)"
   ]
  },
  {
   "cell_type": "code",
   "execution_count": null,
   "metadata": {},
   "outputs": [],
   "source": [
    "display(Markdown(\"#### Any antibiotic\"))\n",
    "display_image(\"medication_any_by_subgroup_count.png\", dir=WEEKLY_RESULTS_DIR)\n",
    "display_image(\"medication_any_by_subgroup.png\", dir=WEEKLY_RESULTS_DIR)"
   ]
  },
  {
   "cell_type": "code",
   "execution_count": null,
   "metadata": {},
   "outputs": [],
   "source": [
    "display(Markdown(\"#### Amoxicillin\"))\n",
    "display_top_5(\"top_5_code_table_event_code_amoxicillin_rate.csv\", dir=WEEKLY_RESULTS_DIR)\n",
    "display_image(\"amoxicillin_by_subgroup_count.png\", dir=WEEKLY_RESULTS_DIR)\n",
    "display_image(\"amoxicillin_by_subgroup.png\", dir=WEEKLY_RESULTS_DIR)"
   ]
  },
  {
   "cell_type": "code",
   "execution_count": null,
   "metadata": {},
   "outputs": [],
   "source": [
    "display(Markdown(\"#### Azithromycin\"))\n",
    "display_top_5(\"top_5_code_table_event_code_azithromycin_rate.csv\", dir=WEEKLY_RESULTS_DIR)\n",
    "display_image(\"azithromycin_by_subgroup_count.png\", dir=WEEKLY_RESULTS_DIR)\n",
    "display_image(\"azithromycin_by_subgroup.png\", dir=WEEKLY_RESULTS_DIR)"
   ]
  },
  {
   "cell_type": "code",
   "execution_count": null,
   "metadata": {},
   "outputs": [],
   "source": [
    "display(Markdown(\"#### Clarithromycin\"))\n",
    "display_top_5(\"top_5_code_table_event_code_clarithromycin_rate.csv\", dir=WEEKLY_RESULTS_DIR)\n",
    "display_image(\"clarithromycin_by_subgroup_count.png\", dir=WEEKLY_RESULTS_DIR)\n",
    "display_image(\"clarithromycin_by_subgroup.png\", dir=WEEKLY_RESULTS_DIR)"
   ]
  },
  {
   "cell_type": "code",
   "execution_count": null,
   "metadata": {},
   "outputs": [],
   "source": [
    "display(Markdown(\"#### Erythromycin\"))\n",
    "display_top_5(\"top_5_code_table_event_code_erythromycin_rate.csv\", dir=WEEKLY_RESULTS_DIR)\n",
    "display_image(\"erythromycin_by_subgroup_count.png\", dir=WEEKLY_RESULTS_DIR)\n",
    "display_image(\"erythromycin_by_subgroup.png\", dir=WEEKLY_RESULTS_DIR)"
   ]
  },
  {
   "cell_type": "code",
   "execution_count": null,
   "metadata": {},
   "outputs": [],
   "source": [
    "display(Markdown(\"#### Phenoxymethypenicillin\"))\n",
    "display_top_5(\"top_5_code_table_event_code_phenoxymethypenicillin_rate.csv\", dir=WEEKLY_RESULTS_DIR)\n",
    "display_image(\"phenoxymethypenicillin_by_subgroup_count.png\", dir=WEEKLY_RESULTS_DIR)\n",
    "display_image(\"phenoxymethypenicillin_by_subgroup.png\", dir=WEEKLY_RESULTS_DIR)"
   ]
  },
  {
   "attachments": {},
   "cell_type": "markdown",
   "metadata": {},
   "source": [
    "## Rate of clinically recorded events\n",
    "\n",
    "Below are the counts and rates of recorded scarlet fever and group A strep in primary care records."
   ]
  },
  {
   "cell_type": "code",
   "execution_count": null,
   "metadata": {},
   "outputs": [],
   "source": [
    "display_image(\"clinical_bar_measures_count.jpeg\", dir=WEEKLY_RESULTS_DIR)\n",
    "display_image(\"clinical_bar_measures.jpeg\", dir=WEEKLY_RESULTS_DIR)"
   ]
  },
  {
   "cell_type": "code",
   "execution_count": null,
   "metadata": {},
   "outputs": [],
   "source": [
    "display(Markdown(\"#### Scarlet Fever\"))\n",
    "display_top_5(\"top_5_code_table_event_code_scarlet_fever_rate.csv\", dir=WEEKLY_RESULTS_DIR)\n",
    "display_image(\"scarlet_fever_by_subgroup_count.png\", dir=WEEKLY_RESULTS_DIR)\n",
    "display_image(\"scarlet_fever_by_subgroup.png\", dir=WEEKLY_RESULTS_DIR)\n",
    "display(Markdown(\"##### Scarlet fever and antibiotic prescribiption\"))\n",
    "display(Markdown(\"Rate of coding for scarlet fever with any antibiotic prescription between the 7 days prior and 14 days post the event of interest\"))\n",
    "display_image(\"scarlet_fever_plus_medication_by_subgroup.png\", dir=WEEKLY_RESULTS_DIR)"
   ]
  },
  {
   "cell_type": "code",
   "execution_count": null,
   "metadata": {},
   "outputs": [],
   "source": [
    "display(Markdown(\"#### Invasive Strep A\"))\n",
    "display_top_5(\"top_5_code_table_event_code_invasive_strep_a_rate.csv\", dir=WEEKLY_RESULTS_DIR)\n"
   ]
  },
  {
   "cell_type": "code",
   "execution_count": null,
   "metadata": {},
   "outputs": [],
   "source": [
    "display(Markdown(\"#### Strep A Sore Throat\"))\n",
    "display_top_5(\"top_5_code_table_event_code_strep_a_sore_throat_rate.csv\", dir=WEEKLY_RESULTS_DIR)\n",
    "display_image(\"strep_a_sore_throat_by_subgroup_count.png\", dir=WEEKLY_RESULTS_DIR)\n",
    "display_image(\"strep_a_sore_throat_by_subgroup.png\", dir=WEEKLY_RESULTS_DIR)\n",
    "display(Markdown(\"##### Strep A sore throat and antibiotic prescribiption\"))\n",
    "display(Markdown(\"Rate of coding for strep A sore throat with any antibiotic prescription between the 7 days prior and 14 days post the event of interest\"))\n",
    "display_image(\"strep_a_sore_throat_plus_medication_by_subgroup.png\", dir=WEEKLY_RESULTS_DIR)"
   ]
  }
 ],
 "metadata": {
  "kernelspec": {
   "display_name": "Python 3",
   "language": "python",
   "name": "python3"
  },
  "language_info": {
   "codemirror_mode": {
    "name": "ipython",
    "version": 3
   },
   "file_extension": ".py",
   "mimetype": "text/x-python",
   "name": "python",
   "nbconvert_exporter": "python",
   "pygments_lexer": "ipython3",
   "version": "3.9.5 (default, Jun 10 2021, 10:02:47) \n[Clang 12.0.5 (clang-1205.0.22.9)]"
  },
  "orig_nbformat": 4,
  "vscode": {
   "interpreter": {
    "hash": "f8ee0486d0b859810a2c6de8194e31e04614babcdd3c5c9e51efa86022ed17a3"
   }
  }
 },
 "nbformat": 4,
 "nbformat_minor": 2
}
