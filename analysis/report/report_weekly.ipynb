{
 "cells": [
  {
   "cell_type": "code",
   "execution_count": null,
   "metadata": {},
   "outputs": [],
   "source": [
    "import numpy as np\n",
    "from IPython.display import Markdown\n",
    "from PIL import Image\n",
    "\n",
    "from report_utils import (\n",
    "    display_event_counts,\n",
    "    display_image,\n",
    "    display_top_5,\n",
    "    RESULTS_DIR,\n",
    "    WEEKLY_RESULTS_DIR,\n",
    ")\n",
    "\n",
    "start_date = '2022-11-11'\n",
    "end_date = '2023-02-01'\n",
    "\n",
    "display(Markdown(f'# Scarlet fever and invasive group A strep cases during the COVID-19 pandemic: {start_date} through {end_date} by week'))"
   ]
  },
  {
   "attachments": {},
   "cell_type": "markdown",
   "metadata": {},
   "source": [
    "### Notes on data presented\n",
    "**Medication data** is based on prescriptions issued within the Electronic Health Record. Prescriptions may not always be dispensed or in some cases the dispensed item may differ from the prescribed item due to the use of a [Serious Shortage Protocol](https://www.nhsbsa.nhs.uk/pharmacies-gp-practices-and-appliance-contractors/serious-shortage-protocols-ssps).\n",
    "**Clinical events data** is based on a clinical code being added to a patients record. This is often added by a clinician during a consultation to indicate the presence of a sign/symptom (e.g. sore throat) or that a clinical diagnosis has been made (e.g. Scarlet Fever). These codes do not necessarily indicate positive test results."
   ]
  },
  {
   "attachments": {},
   "cell_type": "markdown",
   "metadata": {},
   "source": [
    "<ul id=\"docNav\">\n",
    "    <p>This report contains the following sections</p>\n",
    "    <li> <a href=\"#prescribing\">Antibiotic Prescribing</a>\n",
    "        <ul>\n",
    "            <li> <a href=\"#any_antibiotic\">Any antibiotic</a>\n",
    "            <li> <a href=\"#pen\">Phenoxymethylpenicillin</a>\n",
    "            <li> <a href=\"#amoxicillin\">Amoxicillin</a>\n",
    "            <li> <a href=\"#clarithromycin\">Clarithromycin</a>\n",
    "            <li> <a href=\"#erythromycin\">Erythromycin</a>\n",
    "            <li> <a href=\"#azithromycin\">Azithromycin</a>\n",
    "            <li> <a href=\"#flucloxacillin\">Flucloxacillin</a>\n",
    "            <li> <a href=\"#cefalexin\">Cefalexin</a>\n",
    "            <li> <a href=\"#co-amoxiclav\">Co-amoxiclav</a>\n",
    "        </ul>\n",
    "    <li> <a href=\"#clinical\">Recorded Clinical Events</a>\n",
    "        <ul>\n",
    "            <li> <a href=\"#scarlet_fever\">Scarlet Fever</a>\n",
    "            <li> <a href=\"#strep_a\">Strep A Sore Throat</a>\n",
    "            <li> <a href=\"#igas\">Invasive Strep A</a>\n",
    "        </ul>\n",
    "</ul>"
   ]
  },
  {
   "attachments": {},
   "cell_type": "markdown",
   "metadata": {},
   "source": [
    "<a id=\"prescribing\"></a>\n",
    "\n",
    "## Antibiotic Prescribing\n",
    "\n",
    "The below figures show the count and rate of people prescribed antibiotics each month, as recorded in their primary care record.\n"
   ]
  },
  {
   "cell_type": "code",
   "execution_count": null,
   "metadata": {},
   "outputs": [],
   "source": [
    "display(Markdown(\"#### Any antibiotic\"))\n",
    "display(Markdown(\"The below charts show the count and rate of people prescribed any of the following antibiotics each week: phenoxymtheylpenicillin, amoxicillin, clarithromycin, azithromycin, flucloxacillin, cefalexin and co-amoxiclav.\"))"
   ]
  },
  {
   "cell_type": "code",
   "execution_count": null,
   "metadata": {},
   "outputs": [],
   "source": [
    "display_image(\"medications_bar_measures_count.jpeg\", dir=WEEKLY_RESULTS_DIR)\n"
   ]
  },
  {
   "attachments": {},
   "cell_type": "markdown",
   "metadata": {},
   "source": [
    "<a id=\"any_antibiotic\"></a>"
   ]
  },
  {
   "cell_type": "code",
   "execution_count": null,
   "metadata": {},
   "outputs": [],
   "source": [
    "display(Markdown(\"#### Any antibiotic\"))\n",
    "display(Markdown(\"##### Count\"))\n",
    "display_image(\"medication_any_by_subgroup_count.png\", dir=WEEKLY_RESULTS_DIR)\n",
    "display(Markdown(\"Rate Count\"))\n",
    "display_image(\"medication_any_by_subgroup.png\", dir=WEEKLY_RESULTS_DIR)"
   ]
  },
  {
   "attachments": {},
   "cell_type": "markdown",
   "metadata": {},
   "source": [
    "<a id=\"pen\"></a>"
   ]
  },
  {
   "cell_type": "code",
   "execution_count": null,
   "metadata": {},
   "outputs": [],
   "source": [
    "display(Markdown(\"#### Phenoxymethylpenicillin [(Codelist)](https://www.opencodelists.org/codelist/opensafely/phenoxymethypenicillin/3a256b20/)\"))\n",
    "display(Markdown(f\"Below is a description of the recorded medication events for phenoxymethylpenicillin between {start_date} and {end_date}. The codelist used to identify phenoxymethylpenicillin is [here](https://www.opencodelists.org/codelist/opensafely/phenoxymethypenicillin/3a256b20/). This includes the total number of recorded events across the study period, the number of unique patients who had these events recorded and the most common codes recorded from the phenoxymethylpenicillin codelist.\"))\n",
    "display_event_counts(\"event_counts_phenoxymethylpenicillin.json\", \"week\", dir=WEEKLY_RESULTS_DIR)\n",
    "display_top_5(\"top_5_code_table_event_code_phenoxymethylpenicillin_rate.csv\", dir=WEEKLY_RESULTS_DIR)\n",
    "display_image(\"event_code_phenoxymethylpenicillin_rate_top_5_codes_over_time.png\", dir=WEEKLY_RESULTS_DIR)\n",
    "display(Markdown(\"The below charts show the monthly count and rate of recorded phenoxymethylpenicillin events across the study period, with a breakdown by key demographic subgroups.\"))\n",
    "display(Markdown(\"##### Count\"))\n",
    "display_image(\"phenoxymethylpenicillin_by_subgroup_count.png\", dir=WEEKLY_RESULTS_DIR)\n",
    "display(Markdown(\"##### Rate\"))\n",
    "display_image(\"phenoxymethylpenicillin_by_subgroup.png\", dir=WEEKLY_RESULTS_DIR)"
   ]
  },
  {
   "attachments": {},
   "cell_type": "markdown",
   "metadata": {},
   "source": [
    "<a id=\"amoxicillin\"></a>"
   ]
  },
  {
   "cell_type": "code",
   "execution_count": null,
   "metadata": {},
   "outputs": [],
   "source": [
    "display(Markdown(\"#### Amoxicillin [(Codelist)](https://www.opencodelists.org/codelist/opensafely/amoxicillin-oral/164af813/)\"))\n",
    "display(Markdown(f\"Below is a description of the recorded medication events for amoxicillin between {start_date} and {end_date}. The codelist used to identify amoxicillin is [here](https://www.opencodelists.org/codelist/opensafely/amoxicillin-oral/164af813/). This includes the total number of recorded events across the study period, the number of unique patients who had these events recorded and the most common codes recorded from the amoxicillin codelist.\"))\n",
    "display_event_counts(\"event_counts_amoxicillin.json\", \"week\", dir=WEEKLY_RESULTS_DIR)\n",
    "display_top_5(\"top_5_code_table_event_code_amoxicillin_rate.csv\", dir=WEEKLY_RESULTS_DIR)\n",
    "display_image(\"event_code_amoxicillin_rate_top_5_codes_over_time.png\", dir=WEEKLY_RESULTS_DIR)\n",
    "display(Markdown(\"The below charts show the monthly count and rate of recorded amoxicillin events across the study period, with a breakdown by key demographic subgroups.\"))\n",
    "display(Markdown(\"##### Count\"))\n",
    "display_image(\"amoxicillin_by_subgroup_count.png\", dir=WEEKLY_RESULTS_DIR)\n",
    "display(Markdown(\"##### Rate\"))\n",
    "display_image(\"amoxicillin_by_subgroup.png\", dir=WEEKLY_RESULTS_DIR)"
   ]
  },
  {
   "attachments": {},
   "cell_type": "markdown",
   "metadata": {},
   "source": [
    "<a id=\"clarithromycin\"></a>"
   ]
  },
  {
   "cell_type": "code",
   "execution_count": null,
   "metadata": {},
   "outputs": [],
   "source": [
    "display(Markdown(\"#### Clarithromycin [(Codelist)](https://www.opencodelists.org/codelist/opensafely/clarithromycin-oral/080684b6/)\"))\n",
    "display(Markdown(f\"Below is a description of the recorded medication events for clarithromycin between {start_date} and {end_date}. The codelist used to identify clarithromycin is [here](https://www.opencodelists.org/codelist/opensafely/clarithromycin-oral/080684b6/). This includes, the total number of recorded events across the study period, the number of unique patients who had these events recorded and the most common codes recorded from the clarithromycin codelist.\"))\n",
    "display_event_counts(\"event_counts_clarithromycin.json\", \"week\", dir=WEEKLY_RESULTS_DIR)\n",
    "display_top_5(\"top_5_code_table_event_code_clarithromycin_rate.csv\", dir=WEEKLY_RESULTS_DIR)\n",
    "display_image(\"event_code_clarithromycin_rate_top_5_codes_over_time.png\", dir=WEEKLY_RESULTS_DIR)\n",
    "display(Markdown(\"The below charts show the monthly count and rate of recorded clarithromycin events across the study period, with a breakdown by key demographic subgroups.\"))\n",
    "display(Markdown(\"##### Count\"))\n",
    "display_image(\"clarithromycin_by_subgroup_count.png\", dir=WEEKLY_RESULTS_DIR)\n",
    "display(Markdown(\"##### Rate\"))\n",
    "display_image(\"clarithromycin_by_subgroup.png\", dir=WEEKLY_RESULTS_DIR)"
   ]
  },
  {
   "attachments": {},
   "cell_type": "markdown",
   "metadata": {},
   "source": [
    "<a id=\"erythromycin\"></a>"
   ]
  },
  {
   "cell_type": "code",
   "execution_count": null,
   "metadata": {},
   "outputs": [],
   "source": [
    "display(Markdown(\"#### Erythromycin [(Codelist)](https://www.opencodelists.org/codelist/opensafely/erythromycin-oral/7d3b84dd/)\"))\n",
    "display(Markdown(f\"Below is a description of the recorded medication events for erythromycin between {start_date} and {end_date}. The codelist used to identify erythromycin is [here](https://www.opencodelists.org/codelist/opensafely/erythromycin-oral/7d3b84dd/). This includes the total number of recorded events across the study period, the number of unique patients who had these events recorded and the most common codes recorded from the erythromycin codelist.\"))\n",
    "display_event_counts(\"event_counts_erythromycin.json\", \"week\", dir=WEEKLY_RESULTS_DIR)\n",
    "display_top_5(\"top_5_code_table_event_code_erythromycin_rate.csv\", dir=WEEKLY_RESULTS_DIR)\n",
    "display_image(\"event_code_erythromycin_rate_top_5_codes_over_time.png\", dir=WEEKLY_RESULTS_DIR)\n",
    "display(Markdown(\"The below charts show the monthly count and rate of recorded erythromycin events across the study period, with a breakdown by key demographic subgroups.\"))\n",
    "display(Markdown(\"##### Count\"))\n",
    "display_image(\"erythromycin_by_subgroup_count.png\", dir=WEEKLY_RESULTS_DIR)\n",
    "display(Markdown(\"##### Rate\"))\n",
    "display_image(\"erythromycin_by_subgroup.png\", dir=WEEKLY_RESULTS_DIR)"
   ]
  },
  {
   "attachments": {},
   "cell_type": "markdown",
   "metadata": {},
   "source": [
    "<a id=\"azithromycin\"></a>"
   ]
  },
  {
   "cell_type": "code",
   "execution_count": null,
   "metadata": {},
   "outputs": [],
   "source": [
    "display(Markdown(\"#### Azithromycin [(Codelist)](https://www.opencodelists.org/codelist/opensafely/azithromycin-oral/42faf594/)\"))\n",
    "display(Markdown(f\"Below is a description of the recorded medication events for azithromycin between {start_date} and {end_date}. The codelist used to identify azithromycin is [here](https://www.opencodelists.org/codelist/opensafely/azithromycin-oral/42faf594/). This includes, the total number of recorded events across the study period, the number of unique patients who had these events recorded and the most common codes recorded from the azithromycin codelist.\"))\n",
    "display_event_counts(\"event_counts_azithromycin.json\", \"week\", dir=WEEKLY_RESULTS_DIR)\n",
    "display_top_5(\"top_5_code_table_event_code_azithromycin_rate.csv\", dir=WEEKLY_RESULTS_DIR)\n",
    "display_image(\"event_code_azithromycin_rate_top_5_codes_over_time.png\", dir=WEEKLY_RESULTS_DIR)\n",
    "display(Markdown(\"The below charts show the monthly count and rate of recorded azithromycin events across the study period, with a breakdown by key demographic subgroups.\"))\n",
    "display(Markdown(\"##### Count\"))\n",
    "display_image(\"azithromycin_by_subgroup_count.png\", dir=WEEKLY_RESULTS_DIR)\n",
    "display(Markdown(\"##### Rate\"))\n",
    "display_image(\"azithromycin_by_subgroup.png\", dir=WEEKLY_RESULTS_DIR)"
   ]
  },
  {
   "cell_type": "code",
   "execution_count": null,
   "metadata": {},
   "outputs": [],
   "source": [
    "display(Markdown(\"#### Flucloxacillin [(Codelist)](https://www.opencodelists.org/codelist/opensafely/flucloxacillin-oral/35dbdb0f/)\"))\n",
    "display(Markdown(f\"Below is a description of the recorded medication events for flucloxacillin between {start_date} and {end_date}. The codelist used to identify flucloxacillin is [here](https://www.opencodelists.org/codelist/opensafely/flucloxacillin-oral/35dbdb0f/). This includes, the total number of recorded events across the study period, the number of unique patients who had these events recorded and the most common codes recorded from the flucloxacillin codelist.\"))\n",
    "display_event_counts(\"event_counts_flucloxacillin.json\", \"week\", dir=WEEKLY_RESULTS_DIR)\n",
    "display_top_5(\"top_5_code_table_event_code_flucloxacillin_rate.csv\", dir=WEEKLY_RESULTS_DIR)\n",
    "display_image(\"event_code_flucloxacillin_rate_top_5_codes_over_time.png\", dir=WEEKLY_RESULTS_DIR)\n",
    "display(Markdown(\"The below charts show the monthly count and rate of recorded flucloxacillin events across the study period, with a breakdown by key demographic subgroups.\"))\n",
    "display(Markdown(\"##### Count\"))\n",
    "display_image(\"flucloxacillin_by_subgroup_count.png\", dir=WEEKLY_RESULTS_DIR)\n",
    "display(Markdown(\"##### Rate\"))\n",
    "display_image(\"flucloxacillin_by_subgroup.png\", dir=WEEKLY_RESULTS_DIR)"
   ]
  },
  {
   "cell_type": "code",
   "execution_count": null,
   "metadata": {},
   "outputs": [],
   "source": [
    "display(Markdown(\"#### Cefalexin [(Codelist)](https://www.opencodelists.org/codelist/opensafely/cefalexin-oral/4eeb4e44/)\"))\n",
    "display(Markdown(f\"Below is a description of the recorded medication events for cefalexin between {start_date} and {end_date}. The codelist used to identify cefalexin is [here](https://www.opencodelists.org/codelist/opensafely/cefalexin-oral/4eeb4e44/). This includes, the total number of recorded events across the study period, the number of unique patients who had these events recorded and the most common codes recorded from the cefalexin codelist.\"))\n",
    "display_event_counts(\"event_counts_cefalexin.json\", \"week\", dir=WEEKLY_RESULTS_DIR)\n",
    "display_top_5(\"top_5_code_table_event_code_cefalexin_rate.csv\", dir=WEEKLY_RESULTS_DIR)\n",
    "display_image(\"event_code_cefalexin_rate_top_5_codes_over_time.png\", dir=WEEKLY_RESULTS_DIR)\n",
    "display(Markdown(\"The below charts show the monthly count and rate of recorded cefalexin events across the study period, with a breakdown by key demographic subgroups.\"))\n",
    "display(Markdown(\"##### Count\"))\n",
    "display_image(\"cefalexin_by_subgroup_count.png\", dir=WEEKLY_RESULTS_DIR)\n",
    "display(Markdown(\"##### Rate\"))\n",
    "display_image(\"cefalexin_by_subgroup.png\", dir=WEEKLY_RESULTS_DIR)"
   ]
  },
  {
   "cell_type": "code",
   "execution_count": null,
   "metadata": {},
   "outputs": [],
   "source": [
    "display(Markdown(\"#### Co-amoxiclav [(Codelist)](https://www.opencodelists.org/codelist/opensafely/co-amoxiclav-oral/67fac179/)\"))\n",
    "display(Markdown(f\"Below is a description of the recorded medication events for co-amoxiclav between {start_date} and {end_date}. The codelist used to identify co-amoxiclav is [here](https://www.opencodelists.org/codelist/opensafely/co-amoxiclav-oral/67fac179/). This includes, the total number of recorded events across the study period, the number of unique patients who had these events recorded and the most common codes recorded from the co-amoxiclav codelist.\"))\n",
    "display_event_counts(\"event_counts_co_amoxiclav.json\", \"week\", dir=WEEKLY_RESULTS_DIR)\n",
    "display_top_5(\"top_5_code_table_event_code_co_amoxiclav_rate.csv\", dir=WEEKLY_RESULTS_DIR)\n",
    "display_image(\"event_code_co_amoxiclav_rate_top_5_codes_over_time.png\", dir=WEEKLY_RESULTS_DIR)\n",
    "display(Markdown(\"The below charts show the monthly count and rate of recorded co-amoxiclav events across the study period, with a breakdown by key demographic subgroups.\"))\n",
    "display(Markdown(\"##### Count\"))\n",
    "display_image(\"co_amoxiclav_by_subgroup_count.png\", dir=WEEKLY_RESULTS_DIR)\n",
    "display(Markdown(\"##### Rate\"))\n",
    "display_image(\"co_amoxiclav_by_subgroup.png\", dir=WEEKLY_RESULTS_DIR)"
   ]
  },
  {
   "attachments": {},
   "cell_type": "markdown",
   "metadata": {},
   "source": [
    "<a id=\"clinical\"></a>\n",
    "\n",
    "## Recorded Clinical Events\n",
    "\n",
    "Below are the counts and rates of patients with recorded clinical events related to Strep A infection each month, as recorded in their primary care record."
   ]
  },
  {
   "cell_type": "code",
   "execution_count": null,
   "metadata": {},
   "outputs": [],
   "source": [
    "display(Markdown(\"#### Any clinial event\"))\n",
    "display(Markdown(\"The below charts show the count and rate of people with a recording of the following clincial events each month: scarlet fever, strep A sore throat and invasive strep A.\"))"
   ]
  },
  {
   "cell_type": "code",
   "execution_count": null,
   "metadata": {},
   "outputs": [],
   "source": [
    "display_image(\"clinical_bar_measures_count.jpeg\", dir=WEEKLY_RESULTS_DIR)\n"
   ]
  },
  {
   "attachments": {},
   "cell_type": "markdown",
   "metadata": {},
   "source": [
    "<a id=\"scarlet_fever\"></a>"
   ]
  },
  {
   "cell_type": "code",
   "execution_count": null,
   "metadata": {},
   "outputs": [],
   "source": [
    "display(Markdown(\"#### Scarlet Fever [(Codelist)](https://www.opencodelists.org/codelist/user/chriswood/scarlet-fever/1ba70f02/)\"))\n",
    "display(Markdown(f\"Below is a description of the recorded clinical events for scarlet fever between {start_date} and {end_date}. The codelist used to identify scarlet fever is [here](https://www.opencodelists.org/codelist/user/chriswood/scarlet-fever/1ba70f02/). This includes, the total number of recorded events across the study period, the number of unique patients who had these events recorded and the most common codes recorded from the scarlet fever codelist.\"))\n",
    "display_event_counts(\"event_counts_scarlet_fever.json\", \"week\", dir=WEEKLY_RESULTS_DIR)\n",
    "display_top_5(\"top_5_code_table_event_code_scarlet_fever_rate.csv\", dir=WEEKLY_RESULTS_DIR)\n",
    "display_image(\"event_code_scarlet_fever_rate_top_5_codes_over_time.png\", dir=WEEKLY_RESULTS_DIR)\n",
    "display(Markdown(\"The below charts show the monthly count and rate of recorded scarlet fever events across the study period, with a breakdown by key demographic subgroups.\"))\n",
    "display(Markdown(\"##### Count\"))\n",
    "display_image(\"scarlet_fever_by_subgroup_count.png\", dir=WEEKLY_RESULTS_DIR)\n",
    "display(Markdown(\"##### Rate\"))\n",
    "display_image(\"scarlet_fever_by_subgroup.png\", dir=WEEKLY_RESULTS_DIR)\n",
    "display(Markdown(\"##### Scarlet fever and antibiotic prescribiption\"))\n"
   ]
  },
  {
   "attachments": {},
   "cell_type": "markdown",
   "metadata": {},
   "source": [
    "<a id=\"strep_a\"></a>"
   ]
  },
  {
   "cell_type": "code",
   "execution_count": null,
   "metadata": {},
   "outputs": [],
   "source": [
    "display(Markdown(\"#### Strep A Sore Throat [(Codelist)](https://www.opencodelists.org/codelist/user/chriswood/group-a-streptococcal-sore-throat/2924ced0/)\"))\n",
    "display(Markdown(f\"Below is a description of the recorded events for strep a sore throat between {start_date} and {end_date}. The codelist used to identify strep a sore throat is [here](https://www.opencodelists.org/codelist/user/chriswood/group-a-streptococcal-sore-throat/2924ced0/). This includes, the total number of recorded events across the study period, the number of unique patients who had these events recorded and the most common codes recorded from the strep a sore throat codelist.\"))\n",
    "display_event_counts(\"event_counts_strep_a_sore_throat.json\", \"week\", dir=WEEKLY_RESULTS_DIR)\n",
    "display_top_5(\"top_5_code_table_event_code_strep_a_sore_throat_rate.csv\", dir=WEEKLY_RESULTS_DIR)\n",
    "display_image(\"event_code_strep_a_sore_throat_rate_top_5_codes_over_time.png\", dir=WEEKLY_RESULTS_DIR)\n",
    "display(Markdown(\"The below charts show the monthly count and rate of recorded strep a sore throat events across the study period, with a breakdown by key demographic subgroups.\"))\n",
    "display(Markdown(\"##### Count\"))\n",
    "display_image(\"strep_a_sore_throat_by_subgroup_count.png\", dir=WEEKLY_RESULTS_DIR)\n",
    "display(Markdown(\"##### Rate\"))\n",
    "display_image(\"strep_a_sore_throat_by_subgroup.png\", dir=WEEKLY_RESULTS_DIR)\n",
    "display(Markdown(\"##### Strep A sore throat and antibiotic prescribiption\"))\n"
   ]
  },
  {
   "attachments": {},
   "cell_type": "markdown",
   "metadata": {},
   "source": [
    "<a id=\"igas\"></a>"
   ]
  },
  {
   "cell_type": "code",
   "execution_count": null,
   "metadata": {},
   "outputs": [],
   "source": [
    "display(Markdown(\"#### Invasive strep a [(Codelist)](https://www.opencodelists.org/codelist/user/chriswood/invasive-group-a-strep/42344205/)\"))\n",
    "display(Markdown(f\"Below is a description of the recorded events for invasive strep a between {start_date} and {end_date}. The codelist used to identify invasive strep a is [here](https://www.opencodelists.org/codelist/user/chriswood/invasive-group-a-strep/42344205/). This includes, the total number of recorded events across the study period, the number of unique patients who had these events recorded and the most common codes recorded from the invasive strep a codelist.\"))\n",
    "display_event_counts(\"event_counts_invasive_strep_a.json\", \"week\", dir=WEEKLY_RESULTS_DIR)\n",
    "display_top_5(\"top_5_code_table_event_code_invasive_strep_a_rate.csv\", dir=WEEKLY_RESULTS_DIR)\n"
   ]
  }
 ],
 "metadata": {
  "kernelspec": {
   "display_name": "OpenSAFELY",
   "language": "python",
   "name": "python3"
  },
  "language_info": {
   "codemirror_mode": {
    "name": "ipython",
    "version": 3
   },
   "file_extension": ".py",
   "mimetype": "text/x-python",
   "name": "python",
   "nbconvert_exporter": "python",
   "pygments_lexer": "ipython3",
   "version": "3.9.6 (tags/v3.9.6:db3ff76, Jun 28 2021, 15:26:21) [MSC v.1929 64 bit (AMD64)]"
  },
  "orig_nbformat": 4,
  "vscode": {
   "interpreter": {
    "hash": "bcc1f730df8fb5742a3ac26bd3a31839bd02ad4e73a558e52498dfe16975ce60"
   }
  }
 },
 "nbformat": 4,
 "nbformat_minor": 2
}
