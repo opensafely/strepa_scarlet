{
 "cells": [
  {
   "attachments": {},
   "cell_type": "markdown",
   "metadata": {},
   "source": [
    "# Scarlet fever and invasive group A strep cases during the COVID-19 pandemic: 2022-11-11 through 2023-01-19 by week"
   ]
  },
  {
   "attachments": {},
   "cell_type": "markdown",
   "metadata": {},
   "source": [
    "<ul id=\"docNav\">\n",
    "    <p>This report contains the following sections</p>\n",
    "    <li> <a href=\"#prescribing\">Antibiotic Prescribing</a>\n",
    "        <ul>\n",
    "            <li> <a href=\"#any_antibiotic\">Any antibiotic</a>\n",
    "            <li> <a href=\"#pen\">Phenoxymethylpenicillin</a>\n",
    "            <li> <a href=\"#amoxicillin\">Amoxicillin</a>\n",
    "            <li> <a href=\"#clarithromycin\">Clarithromycin</a>\n",
    "            <li> <a href=\"#erythromycin\">Erythromycin</a>\n",
    "            <li> <a href=\"#azithromycin\">Azithromycin</a>\n",
    "            <li> <a href=\"#flucloxacillin\">Flucloxacillin</a>\n",
    "            <li> <a href=\"#cefalexin\">Cefalexin</a>\n",
    "            <li> <a href=\"#co-amoxiclav\">Co-amoxiclav</a>\n",
    "        </ul>\n",
    "    <li> <a href=\"#clinical\">Recorded Clinical Events</a>\n",
    "        <ul>\n",
    "            <li> <a href=\"#scarlet_fever\">Scarlet Fever</a>\n",
    "            <li> <a href=\"#strep_a\">Strep A Sore Throat</a>\n",
    "            <li> <a href=\"#igas\">Invasive Strep A</a>\n",
    "        </ul>\n",
    "</ul>"
   ]
  },
  {
   "cell_type": "code",
   "execution_count": null,
   "metadata": {},
   "outputs": [],
   "source": [
    "from IPython.display import Markdown\n",
    "\n",
    "from report_utils import (\n",
    "    display_event_counts,\n",
    "    display_image,\n",
    "    display_top_5,\n",
    "    RESULTS_DIR,\n",
    "    WEEKLY_RESULTS_DIR,\n",
    ")\n"
   ]
  },
  {
   "attachments": {},
   "cell_type": "markdown",
   "metadata": {},
   "source": [
    "<a id=\"prescribing\"></a>\n",
    "\n",
    "## Antibiotic Prescribing\n",
    "\n",
    "Below are the prescribing counts and rates for different antibiotics.\n"
   ]
  },
  {
   "cell_type": "code",
   "execution_count": null,
   "metadata": {},
   "outputs": [],
   "source": [
    "display_image(\"medications_bar_measures_count.jpeg\", dir=WEEKLY_RESULTS_DIR)\n",
    "display_image(\"medications_bar_measures.jpeg\", dir=WEEKLY_RESULTS_DIR)"
   ]
  },
  {
   "attachments": {},
   "cell_type": "markdown",
   "metadata": {},
   "source": [
    "<a id=\"any_antibiotic\"></a>"
   ]
  },
  {
   "cell_type": "code",
   "execution_count": null,
   "metadata": {},
   "outputs": [],
   "source": [
    "display(Markdown(\"#### Any antibiotic\"))\n",
    "display_image(\"medication_any_by_subgroup_count.png\", dir=WEEKLY_RESULTS_DIR)\n",
    "display_image(\"medication_any_by_subgroup.png\", dir=WEEKLY_RESULTS_DIR)"
   ]
  },
  {
   "attachments": {},
   "cell_type": "markdown",
   "metadata": {},
   "source": [
    "<a id=\"pen\"></a>"
   ]
  },
  {
   "cell_type": "code",
   "execution_count": null,
   "metadata": {},
   "outputs": [],
   "source": [
    "display(Markdown(\"#### Phenoxymethylpenicillin\"))\n",
    "display_top_5(\"top_5_code_table_event_code_phenoxymethylpenicillin_rate.csv\", dir=WEEKLY_RESULTS_DIR)\n",
    "display_image(\"phenoxymethylpenicillin_by_subgroup_count.png\", dir=WEEKLY_RESULTS_DIR)\n",
    "display_image(\"phenoxymethylpenicillin_by_subgroup.png\", dir=WEEKLY_RESULTS_DIR)"
   ]
  },
  {
   "attachments": {},
   "cell_type": "markdown",
   "metadata": {},
   "source": [
    "<a id=\"amoxicillin\"></a>"
   ]
  },
  {
   "cell_type": "code",
   "execution_count": null,
   "metadata": {},
   "outputs": [],
   "source": [
    "display(Markdown(\"#### Amoxicillin\"))\n",
    "display_event_counts(\"event_counts_amoxicillin.json\", \"week\",dir=WEEKLY_RESULTS_DIR)\n",
    "display_top_5(\"top_5_code_table_event_code_amoxicillin_rate.csv\", dir=WEEKLY_RESULTS_DIR)\n",
    "display_image(\"amoxicillin_by_subgroup_count.png\", dir=WEEKLY_RESULTS_DIR)\n",
    "display_image(\"amoxicillin_by_subgroup.png\", dir=WEEKLY_RESULTS_DIR)"
   ]
  },
  {
   "attachments": {},
   "cell_type": "markdown",
   "metadata": {},
   "source": [
    "<a id=\"clarithromycin\"></a>"
   ]
  },
  {
   "cell_type": "code",
   "execution_count": null,
   "metadata": {},
   "outputs": [],
   "source": [
    "display(Markdown(\"#### Clarithromycin\"))\n",
    "display_event_counts(\"event_counts_clarithromycin.json\", \"week\", dir=WEEKLY_RESULTS_DIR)\n",
    "display_top_5(\"top_5_code_table_event_code_clarithromycin_rate.csv\", dir=WEEKLY_RESULTS_DIR)\n",
    "display_image(\"clarithromycin_by_subgroup_count.png\", dir=WEEKLY_RESULTS_DIR)\n",
    "display_image(\"clarithromycin_by_subgroup.png\", dir=WEEKLY_RESULTS_DIR)"
   ]
  },
  {
   "attachments": {},
   "cell_type": "markdown",
   "metadata": {},
   "source": [
    "<a id=\"erythromycin\"></a>"
   ]
  },
  {
   "cell_type": "code",
   "execution_count": null,
   "metadata": {},
   "outputs": [],
   "source": [
    "display(Markdown(\"#### Erythromycin\"))\n",
    "display_event_counts(\"event_counts_erythromycin.json\", \"week\", dir=WEEKLY_RESULTS_DIR)\n",
    "display_top_5(\"top_5_code_table_event_code_erythromycin_rate.csv\", dir=WEEKLY_RESULTS_DIR)\n",
    "display_image(\"erythromycin_by_subgroup_count.png\", dir=WEEKLY_RESULTS_DIR)\n",
    "display_image(\"erythromycin_by_subgroup.png\", dir=WEEKLY_RESULTS_DIR)"
   ]
  },
  {
   "attachments": {},
   "cell_type": "markdown",
   "metadata": {},
   "source": [
    "<a id=\"azithromycin\"></a>"
   ]
  },
  {
   "cell_type": "code",
   "execution_count": null,
   "metadata": {},
   "outputs": [],
   "source": [
    "display(Markdown(\"#### Azithromycin\"))\n",
    "display_top_5(\"top_5_code_table_event_code_azithromycin_rate.csv\", dir=WEEKLY_RESULTS_DIR)\n",
    "display_image(\"azithromycin_by_subgroup_count.png\", dir=WEEKLY_RESULTS_DIR)\n",
    "display_image(\"azithromycin_by_subgroup.png\", dir=WEEKLY_RESULTS_DIR)"
   ]
  },
  {
   "attachments": {},
   "cell_type": "markdown",
   "metadata": {},
   "source": [
    "<a id=\"clinical\"></a>\n",
    "\n",
    "## Recorded Clinical Events\n",
    "\n",
    "Below are the counts and rates of recorded scarlet fever and group A strep in primary care records."
   ]
  },
  {
   "cell_type": "code",
   "execution_count": null,
   "metadata": {},
   "outputs": [],
   "source": [
    "display_image(\"clinical_bar_measures_count.jpeg\", dir=WEEKLY_RESULTS_DIR)\n",
    "display_image(\"clinical_bar_measures.jpeg\", dir=WEEKLY_RESULTS_DIR)"
   ]
  },
  {
   "attachments": {},
   "cell_type": "markdown",
   "metadata": {},
   "source": [
    "<a id=\"scarlet_fever\"></a>"
   ]
  },
  {
   "cell_type": "code",
   "execution_count": null,
   "metadata": {},
   "outputs": [],
   "source": [
    "display(Markdown(\"#### Scarlet Fever\"))\n",
    "display_event_counts(\"event_counts_scarlet_fever.json\", \"week\", dir=WEEKLY_RESULTS_DIR)\n",
    "display_top_5(\"top_5_code_table_event_code_scarlet_fever_rate.csv\", dir=WEEKLY_RESULTS_DIR)\n",
    "display_image(\"scarlet_fever_by_subgroup_count.png\", dir=WEEKLY_RESULTS_DIR)\n",
    "display_image(\"scarlet_fever_by_subgroup.png\", dir=WEEKLY_RESULTS_DIR)\n",
    "display(Markdown(\"##### Scarlet fever and antibiotic prescribiption\"))\n",
    "display(Markdown(\"Rate of coding for scarlet fever with any antibiotic prescription between the 7 days prior and 14 days post the event of interest\"))\n",
    "display_image(\"scarlet_fever_plus_medication_by_subgroup.png\", dir=WEEKLY_RESULTS_DIR)"
   ]
  },
  {
   "attachments": {},
   "cell_type": "markdown",
   "metadata": {},
   "source": [
    "<a id=\"strep_a\"></a>"
   ]
  },
  {
   "cell_type": "code",
   "execution_count": null,
   "metadata": {},
   "outputs": [],
   "source": [
    "display(Markdown(\"#### Strep A Sore Throat\"))\n",
    "display_event_counts(\"event_counts_strep_a_sore_throat.json\", \"week\", dir=WEEKLY_RESULTS_DIR)\n",
    "display_top_5(\"top_5_code_table_event_code_strep_a_sore_throat_rate.csv\", dir=WEEKLY_RESULTS_DIR)\n",
    "display_image(\"strep_a_sore_throat_by_subgroup_count.png\", dir=WEEKLY_RESULTS_DIR)\n",
    "display_image(\"strep_a_sore_throat_by_subgroup.png\", dir=WEEKLY_RESULTS_DIR)\n",
    "display(Markdown(\"##### Strep A sore throat and antibiotic prescribiption\"))\n",
    "display(Markdown(\"Rate of coding for strep A sore throat with any antibiotic prescription between the 7 days prior and 14 days post the event of interest\"))\n",
    "display_image(\"strep_a_sore_throat_plus_medication_by_subgroup.png\", dir=WEEKLY_RESULTS_DIR)"
   ]
  },
  {
   "attachments": {},
   "cell_type": "markdown",
   "metadata": {},
   "source": [
    "<a id=\"igas\"></a>"
   ]
  },
  {
   "cell_type": "code",
   "execution_count": null,
   "metadata": {},
   "outputs": [],
   "source": [
    "display(Markdown(\"#### Invasive Strep A\"))\n",
    "display_top_5(\"top_5_code_table_event_code_invasive_strep_a_rate.csv\", dir=WEEKLY_RESULTS_DIR)\n"
   ]
  }
 ],
 "metadata": {
  "kernelspec": {
   "display_name": "Python 3",
   "language": "python",
   "name": "python3"
  },
  "language_info": {
   "codemirror_mode": {
    "name": "ipython",
    "version": 3
   },
   "file_extension": ".py",
   "mimetype": "text/x-python",
   "name": "python",
   "nbconvert_exporter": "python",
   "pygments_lexer": "ipython3",
   "version": "3.9.5"
  },
  "orig_nbformat": 4,
  "vscode": {
   "interpreter": {
    "hash": "f8ee0486d0b859810a2c6de8194e31e04614babcdd3c5c9e51efa86022ed17a3"
   }
  }
 },
 "nbformat": 4,
 "nbformat_minor": 2
}
