{
 "cells": [
  {
   "cell_type": "code",
   "execution_count": null,
   "metadata": {},
   "outputs": [],
   "source": [
    "import numpy as np\n",
    "from IPython.display import Markdown\n",
    "from PIL import Image\n",
    "\n",
    "from report_utils import (\n",
    "    display_table,\n",
    "    display_image,\n",
    "    display_top_5,\n",
    "    RESULTS_DIR,\n",
    "    WEEKLY_RESULTS_DIR,\n",
    ")\n",
    "\n",
    "start_date = '2022-11-11'\n",
    "end_date = '2023-02-08'\n",
    "\n",
    "display(Markdown(f'# <center>Group A streptococcal cases and treatments during the COVID-19 pandemic: a rapid report'))\n",
    "display(Markdown(f'### <center>{start_date} through {end_date} by week'))"
   ]
  },
  {
   "attachments": {},
   "cell_type": "markdown",
   "metadata": {},
   "source": [
    "<a id=\"backgound\"></a>\n",
    "\n",
    "## Background\n",
    "\n",
    "During the COVID-19 pandemic there has been a substantial change to the pattern of circulating viruses and bacteria that cause illnesses. In order to support ongoing response and recovery of NHS services from the COVID-19 pandemic, it is useful to have detailed information on patterns of disease being reported by the NHS and on treatments such as antibiotics.\n",
    "\n",
    "In the winter of [22/23 UKHSA (December 8th) reported](https://www.gov.uk/government/news/ukhsa-update-on-scarlet-fever-and-invasive-group-a-strep-1) an unseasonal increase of scarlet fever and group A streptococcus infections. Sadly, between 19th September 2022 and 15th January 2023 there have been 211 deaths in England across all age groups, including 30 children under 18. UKHSA indicates that the increase is likely to reflect increased susceptibility to these infections in children due to low numbers of cases during the COVID-19 pandemic, along with current circulation of respiratory viruses.\n",
    "\n",
    "This rapid report describes changes in the recording of diagnoses and symptoms related to group A streptococcal infection and the prescribing of antibiotics used to treat group A streptococcal infection. We will routinely update the data in this report and invite anyone who finds it useful to get in touch and tell us how you use this report or new features you'd like to see.\n",
    "\n",
    "## Methods\n",
    "\n",
    "This study used data from OpenSAFELY-TPP, which covers 40% of the population of England. For a description of the representativeness of this sample, please see our manuscript [here](https://doi.org/10.12688/wellcomeopenres.18010.1). Individuals were included if they were alive and registered at a TPP practice each week, across the study period. Patients were excluded if their listed age was not between 0 and 120 years.\n",
    "\n",
    "Counts represent patients with at least one prescription or clinical event in that week. Patients with more than one of the same prescription or clinical event in a week were only counted once. Rates divide the count by the included study population and multiply by 1,000 to achieve a rate per 1,000 registered patients.\n",
    "\n",
    "Counts <=5 have been redacted and all numbers rounded to the nearest 10 to avoid potential re-identification of individuals. The rates displayed were computed with these rounded counts.\n",
    "\n",
    "Prescribing data is based on prescriptions issued within the Electronic Health Record. Prescriptions may not always be dispensed or in some cases the dispensed item may differ from the prescribed item due to the use of a [Serious Shortage Protocol](https://www.nhsbsa.nhs.uk/pharmacies-gp-practices-and-appliance-contractors/serious-shortage-protocols-ssps).\n",
    "\n",
    "Clinical events data is based on a clinical code being added to a patient's record. This is often added by a clinician during a consultation to indicate the presence of a sign/symptom (e.g. sore throat) or that a clinical diagnosis has been made (e.g. Scarlet Fever). These codes do not necessarily indicate positive test results.\n",
    "\n",
    "Links to the codelist for each analysis can be found beneath the relevant section.\n",
    "\n"
   ]
  },
  {
   "attachments": {},
   "cell_type": "markdown",
   "metadata": {},
   "source": [
    "<ul id=\"docNav\">\n",
    "    <p>This report contains the following sections</p>\n",
    "    <li> <a href=\"#prescribing\">Antibiotic Prescribing</a>\n",
    "        <ul>\n",
    "            <li> <a href=\"#any_antibiotic\">Any antibiotic</a>\n",
    "            <li> <a href=\"#pen\">Phenoxymethylpenicillin</a>\n",
    "            <li> <a href=\"#amoxicillin\">Amoxicillin</a>\n",
    "            <li> <a href=\"#clarithromycin\">Clarithromycin</a>\n",
    "            <li> <a href=\"#erythromycin\">Erythromycin</a>\n",
    "            <li> <a href=\"#azithromycin\">Azithromycin</a>\n",
    "            <li> <a href=\"#flucloxacillin\">Flucloxacillin</a>\n",
    "            <li> <a href=\"#cefalexin\">Cefalexin</a>\n",
    "            <li> <a href=\"#co-amoxiclav\">Co-amoxiclav</a>\n",
    "        </ul>\n",
    "    <li> <a href=\"#clinical\">Recorded Clinical Events</a>\n",
    "        <ul>\n",
    "            <li> <a href=\"#any_clinical\">Any clinical</a>\n",
    "            <li> <a href=\"#scarlet_fever\">Scarlet Fever</a>\n",
    "            <li> <a href=\"#strep_a\">Sore Throat/Tonsillitis</a>\n",
    "            <li> <a href=\"#igas\">Invasive Strep A</a>\n",
    "        </ul>\n",
    "</ul>"
   ]
  },
  {
   "attachments": {},
   "cell_type": "markdown",
   "metadata": {},
   "source": [
    "<a id=\"prescribing\"></a>\n",
    "\n",
    "## Antibiotic Prescribing\n",
    "\n",
    "The below charts show the count and rate of patients prescribed the following antibiotics each week: phenoxymtheylpenicillin, amoxicillin, clarithromycin, erythromycin, azithromycin, flucloxacillin, cefalexin and co-amoxiclav. This is based on the antibiotic recommendation given in [NHS England Group A streptococcus in children: Interim clinical guidance summary 22nd December 2022.](https://www.england.nhs.uk/publication/group-a-streptococcus-communications-to-clinicians)\n",
    "\n"
   ]
  },
  {
   "attachments": {},
   "cell_type": "markdown",
   "metadata": {},
   "source": [
    "<a id=\"any_antibiotic\"></a>"
   ]
  },
  {
   "cell_type": "code",
   "execution_count": null,
   "metadata": {},
   "outputs": [],
   "source": [
    "display(Markdown(\"#### Any antibiotic\"))\n",
    "display(Markdown(\"Counts <=5 were redacted and all numbers were rounded to the nearest 10.\"))\n",
    "display(Markdown(\"**Counts:** represent patients with at least one prescription event in that week. Patients with more than one of the same prescription in a week were only counted once.\"))\n",
    "display(Markdown(\"**Rates:** divide the count by the included study population and multiply by 1,000 to achieve a rate per 1,000 registered patients.\"))\n",
    "display(Markdown(\"**Note:** Prescribing data is based on prescriptions issued within the Electronic Health Record. Prescriptions may not always be dispensed or in some cases the dispensed item may differ from the prescribed item due to the use of a [Serious Shortage Protocol](https://www.nhsbsa.nhs.uk/pharmacies-gp-practices-and-appliance-contractors/serious-shortage-protocols-ssps).\"))\n",
    "display(Markdown(\"The below charts show the count of patients prescribed any of the above listed antibiotics each week, followed by a table with the underlying counts.\"))\n",
    "display_image(\"medications_bar_measures_count.jpeg\", dir=WEEKLY_RESULTS_DIR)\n",
    "display_table(\"event_counts_medication.csv\", dir=WEEKLY_RESULTS_DIR)\n",
    "display(Markdown(\"The below charts show the weekly count and rate of patients with any of the listed anitbiotics across the study period, with a breakdown by key demographic subgroups.\"))\n",
    "display(Markdown(\"##### Count\"))\n",
    "display_image(\"medication_any_by_subgroup_count.png\", dir=WEEKLY_RESULTS_DIR)\n",
    "display(Markdown(\"##### Rate\"))\n",
    "display_image(\"medication_any_by_subgroup.png\", dir=WEEKLY_RESULTS_DIR)"
   ]
  },
  {
   "attachments": {},
   "cell_type": "markdown",
   "metadata": {},
   "source": [
    "<a id=\"pen\"></a>"
   ]
  },
  {
   "cell_type": "code",
   "execution_count": null,
   "metadata": {},
   "outputs": [],
   "source": [
    "code = 'phenoxymethylpenicillin'\n",
    "path = 'phenoxymethylpenicillin'\n",
    "display(Markdown(f\"#### Phenoxymethylpenicillin [(Codelist)](https://www.opencodelists.org/codelist/opensafely/phenoxymethylpenicillin/3a256b20/)\"))\n",
    "display(Markdown(f\"The below charts show the weekly count and rate of patients prescribed {code} between {start_date} and {end_date}. The codelist used to identify {code} is [here](https://www.opencodelists.org/codelist/opensafely/phenoxymethylpenicillin/3a256b20/). Counts <=5 were redacted and all numbers were rounded to the nearest 10.\"))\n",
    "display(Markdown(\"**Counts:** represent patients with at least one prescription event in that week. Patients with more than one of the same prescription in a week were only counted once.\"))\n",
    "display(Markdown(\"**Rates:** divide the count by the included study population and multiply by 1,000 to achieve a rate per 1,000 registered patients.\"))\n",
    "display(Markdown(\"**Note:** Prescribing data is based on prescriptions issued within the Electronic Health Record. Prescriptions may not always be dispensed or in some cases the dispensed item may differ from the prescribed item due to the use of a [Serious Shortage Protocol](https://www.nhsbsa.nhs.uk/pharmacies-gp-practices-and-appliance-contractors/serious-shortage-protocols-ssps).\"))\n",
    "display(Markdown(f\"The first two charts show the most used codes within the {code} codelist. The table lists the top 5 codes after summing code usage over the entire study period. The proportion was computed after rounding. If more than 5 codes in the codelist are used, the proportion will not add up to 1.\"))\n",
    "display_top_5(f\"top_5_code_table_event_code_{path}_rate.csv\", dir=WEEKLY_RESULTS_DIR)\n",
    "display(Markdown(\"The second chart illustrates code usage over time. Codes that were in the top 5 either in the first or last week of the study period were included.\"))\n",
    "display_image(f\"event_code_{path}_rate_top_5_codes_over_time.png\", dir=WEEKLY_RESULTS_DIR)\n",
    "display(Markdown(f\"The below charts show the weekly count and rate of patients with recorded {code} events across the study period, with a breakdown by key demographic subgroups.\"))\n",
    "display(Markdown(\"##### Count\"))\n",
    "display_image(f\"{path}_by_subgroup_count.png\", dir=WEEKLY_RESULTS_DIR)\n",
    "display(Markdown(\"##### Rate\"))\n",
    "display_image(f\"{path}_by_subgroup.png\", dir=WEEKLY_RESULTS_DIR)"
   ]
  },
  {
   "attachments": {},
   "cell_type": "markdown",
   "metadata": {},
   "source": [
    "<a id=\"amoxicillin\"></a>"
   ]
  },
  {
   "cell_type": "code",
   "execution_count": null,
   "metadata": {},
   "outputs": [],
   "source": [
    "code = 'amoxicillin'\n",
    "path = 'amoxicillin'\n",
    "display(Markdown(\"#### Amoxicillin [(Codelist)](https://www.opencodelists.org/codelist/opensafely/amoxicillin-oral/164af813/)\"))\n",
    "display(Markdown(f\"Below is a description of the patients prescribed amoxicillin between {start_date} and {end_date}. The codelist used to identify amoxicillin is [here](https://www.opencodelists.org/codelist/opensafely/amoxicillin-oral/164af813/). Counts <=5 were redacted and all numbers were rounded to the nearest 10.\"))\n",
    "display(Markdown(\"**Counts:** represent patients with at least one prescription event in that week. Patients with more than one of the same prescription in a week were only counted once.\"))\n",
    "display(Markdown(\"**Rates:** divide the count by the included study population and multiply by 1,000 to achieve a rate per 1,000 registered patients.\"))\n",
    "display(Markdown(\"**Note:** Prescribing data is based on prescriptions issued within the Electronic Health Record. Prescriptions may not always be dispensed or in some cases the dispensed item may differ from the prescribed item due to the use of a [Serious Shortage Protocol](https://www.nhsbsa.nhs.uk/pharmacies-gp-practices-and-appliance-contractors/serious-shortage-protocols-ssps).\"))\n",
    "display(Markdown(f\"The first two charts show the most used codes within the {code} codelist. The table lists the top 5 codes after summing code usage over the entire study period. The proportion was computed after rounding. If more than 5 codes in the codelist are used, the proportion will not add up to 1.\"))\n",
    "display_top_5(f\"top_5_code_table_event_code_{path}_rate.csv\", dir=WEEKLY_RESULTS_DIR)\n",
    "display(Markdown(\"The second chart illustrates code usage over time. Codes that were in the top 5 either in the first or last week of the study period were included.\"))\n",
    "display_image(f\"event_code_{path}_rate_top_5_codes_over_time.png\", dir=WEEKLY_RESULTS_DIR)\n",
    "display(Markdown(f\"The below charts show the weekly count and rate of patients with recorded {code} events across the study period, with a breakdown by key demographic subgroups.\"))\n",
    "display(Markdown(\"##### Count\"))\n",
    "display_image(f\"{path}_by_subgroup_count.png\", dir=WEEKLY_RESULTS_DIR)\n",
    "display(Markdown(\"##### Rate\"))\n",
    "display_image(f\"{path}_by_subgroup.png\", dir=WEEKLY_RESULTS_DIR)"
   ]
  },
  {
   "attachments": {},
   "cell_type": "markdown",
   "metadata": {},
   "source": [
    "<a id=\"clarithromycin\"></a>"
   ]
  },
  {
   "cell_type": "code",
   "execution_count": null,
   "metadata": {},
   "outputs": [],
   "source": [
    "code = 'clarithromycin'\n",
    "path = 'clarithromycin'\n",
    "display(Markdown(\"#### Clarithromycin [(Codelist)](https://www.opencodelists.org/codelist/opensafely/clarithromycin-oral/080684b6/)\"))\n",
    "display(Markdown(f\"Below is a description of the patients prescribed clarithromycin between {start_date} and {end_date}. The codelist used to identify clarithromycin is [here](https://www.opencodelists.org/codelist/opensafely/clarithromycin-oral/080684b6/). Counts <=5 were redacted and all numbers were rounded to the nearest 10.\"))\n",
    "display(Markdown(\"**Counts:** represent patients with at least one prescription event in that week. Patients with more than one of the same prescription in a week were only counted once.\"))\n",
    "display(Markdown(\"**Rates:** divide the count by the included study population and multiply by 1,000 to achieve a rate per 1,000 registered patients.\"))\n",
    "display(Markdown(\"**Note:** Prescribing data is based on prescriptions issued within the Electronic Health Record. Prescriptions may not always be dispensed or in some cases the dispensed item may differ from the prescribed item due to the use of a [Serious Shortage Protocol](https://www.nhsbsa.nhs.uk/pharmacies-gp-practices-and-appliance-contractors/serious-shortage-protocols-ssps).\"))\n",
    "display(Markdown(f\"The first two charts show the most used codes within the {code} codelist. The table lists the top 5 codes after summing code usage over the entire study period. The proportion was computed after rounding. If more than 5 codes in the codelist are used, the proportion will not add up to 1.\"))\n",
    "display_top_5(f\"top_5_code_table_event_code_{path}_rate.csv\", dir=WEEKLY_RESULTS_DIR)\n",
    "display(Markdown(\"The second chart illustrates code usage over time. Codes that were in the top 5 either in the first or last week of the study period were included.\"))\n",
    "display_image(f\"event_code_{path}_rate_top_5_codes_over_time.png\", dir=WEEKLY_RESULTS_DIR)\n",
    "display(Markdown(f\"The below charts show the weekly count and rate of patients with recorded {code} events across the study period, with a breakdown by key demographic subgroups.\"))\n",
    "display(Markdown(\"##### Count\"))\n",
    "display_image(f\"{path}_by_subgroup_count.png\", dir=WEEKLY_RESULTS_DIR)\n",
    "display(Markdown(\"##### Rate\"))\n",
    "display_image(f\"{path}_by_subgroup.png\", dir=WEEKLY_RESULTS_DIR)"
   ]
  },
  {
   "attachments": {},
   "cell_type": "markdown",
   "metadata": {},
   "source": [
    "<a id=\"erythromycin\"></a>"
   ]
  },
  {
   "cell_type": "code",
   "execution_count": null,
   "metadata": {},
   "outputs": [],
   "source": [
    "code = 'erythromycin'\n",
    "path = 'erythromycin'\n",
    "display(Markdown(\"#### Erythromycin [(Codelist)](https://www.opencodelists.org/codelist/opensafely/erythromycin-oral/7d3b84dd/)\"))\n",
    "display(Markdown(f\"Below is a description of the patients prescribed erythromycin between {start_date} and {end_date}. The codelist used to identify erythromycin is [here](https://www.opencodelists.org/codelist/opensafely/erythromycin-oral/7d3b84dd/). Counts <=5 were redacted and all numbers were rounded to the nearest 10.\"))\n",
    "display(Markdown(\"**Counts:** represent patients with at least one prescription event in that week. Patients with more than one of the same prescription in a week were only counted once.\"))\n",
    "display(Markdown(\"**Rates:** divide the count by the included study population and multiply by 1,000 to achieve a rate per 1,000 registered patients.\"))\n",
    "display(Markdown(\"**Note:** Prescribing data is based on prescriptions issued within the Electronic Health Record. Prescriptions may not always be dispensed or in some cases the dispensed item may differ from the prescribed item due to the use of a [Serious Shortage Protocol](https://www.nhsbsa.nhs.uk/pharmacies-gp-practices-and-appliance-contractors/serious-shortage-protocols-ssps).\"))\n",
    "display(Markdown(f\"The first two charts show the most used codes within the {code} codelist. The table lists the top 5 codes after summing code usage over the entire study period. The proportion was computed after rounding. If more than 5 codes in the codelist are used, the proportion will not add up to 1.\"))\n",
    "display_top_5(f\"top_5_code_table_event_code_{path}_rate.csv\", dir=WEEKLY_RESULTS_DIR)\n",
    "display(Markdown(\"The second chart illustrates code usage over time. Codes that were in the top 5 either in the first or last week of the study period were included.\"))\n",
    "display_image(f\"event_code_{path}_rate_top_5_codes_over_time.png\", dir=WEEKLY_RESULTS_DIR)\n",
    "display(Markdown(f\"The below charts show the weekly count and rate of patients with recorded {code} events across the study period, with a breakdown by key demographic subgroups.\"))\n",
    "display(Markdown(\"##### Count\"))\n",
    "display_image(f\"{path}_by_subgroup_count.png\", dir=WEEKLY_RESULTS_DIR)\n",
    "display(Markdown(\"##### Rate\"))\n",
    "display_image(f\"{path}_by_subgroup.png\", dir=WEEKLY_RESULTS_DIR)"
   ]
  },
  {
   "attachments": {},
   "cell_type": "markdown",
   "metadata": {},
   "source": [
    "<a id=\"azithromycin\"></a>"
   ]
  },
  {
   "cell_type": "code",
   "execution_count": null,
   "metadata": {},
   "outputs": [],
   "source": [
    "code = 'azithromycin'\n",
    "path = 'azithromycin'\n",
    "display(Markdown(\"#### Azithromycin [(Codelist)](https://www.opencodelists.org/codelist/opensafely/azithromycin-oral/42faf594/)\"))\n",
    "display(Markdown(f\"Below is a description of the patients prescribed azithromycin between {start_date} and {end_date}. The codelist used to identify azithromycin is [here](https://www.opencodelists.org/codelist/opensafely/azithromycin-oral/42faf594/). Counts <=5 were redacted and all numbers were rounded to the nearest 10.\"))\n",
    "display(Markdown(\"**Counts:** represent patients with at least one prescription event in that week. Patients with more than one of the same prescription in a week were only counted once.\"))\n",
    "display(Markdown(\"**Rates:** divide the count by the included study population and multiply by 1,000 to achieve a rate per 1,000 registered patients.\"))\n",
    "display(Markdown(\"**Note:** Prescribing data is based on prescriptions issued within the Electronic Health Record. Prescriptions may not always be dispensed or in some cases the dispensed item may differ from the prescribed item due to the use of a [Serious Shortage Protocol](https://www.nhsbsa.nhs.uk/pharmacies-gp-practices-and-appliance-contractors/serious-shortage-protocols-ssps).\"))\n",
    "display(Markdown(f\"The first two charts show the most used codes within the {code} codelist. The table lists the top 5 codes after summing code usage over the entire study period. The proportion was computed after rounding. If more than 5 codes in the codelist are used, the proportion will not add up to 1.\"))\n",
    "display_top_5(f\"top_5_code_table_event_code_{path}_rate.csv\", dir=WEEKLY_RESULTS_DIR)\n",
    "display(Markdown(\"The second chart illustrates code usage over time. Codes that were in the top 5 either in the first or last week of the study period were included.\"))\n",
    "display_image(f\"event_code_{path}_rate_top_5_codes_over_time.png\", dir=WEEKLY_RESULTS_DIR)\n",
    "display(Markdown(f\"The below charts show the weekly count and rate of patients with recorded {code} events across the study period, with a breakdown by key demographic subgroups.\"))\n",
    "display(Markdown(\"##### Count\"))\n",
    "display_image(f\"{path}_by_subgroup_count.png\", dir=WEEKLY_RESULTS_DIR)\n",
    "display(Markdown(\"##### Rate\"))\n",
    "display_image(f\"{path}_by_subgroup.png\", dir=WEEKLY_RESULTS_DIR)"
   ]
  },
  {
   "cell_type": "code",
   "execution_count": null,
   "metadata": {},
   "outputs": [],
   "source": [
    "code = 'flucloxacillin'\n",
    "path = 'flucloxacillin'\n",
    "display(Markdown(\"#### Flucloxacillin [(Codelist)](https://www.opencodelists.org/codelist/opensafely/flucloxacillin-oral/35dbdb0f/)\"))\n",
    "display(Markdown(f\"Below is a description of the patients prescribed flucloxacillin between {start_date} and {end_date}. The codelist used to identify flucloxacillin is [here](https://www.opencodelists.org/codelist/opensafely/flucloxacillin-oral/35dbdb0f/). Counts <=5 were redacted and all numbers were rounded to the nearest 10.\"))\n",
    "display(Markdown(\"**Counts:** represent patients with at least one prescription event in that week. Patients with more than one of the same prescription in a week were only counted once.\"))\n",
    "display(Markdown(\"**Rates:** divide the count by the included study population and multiply by 1,000 to achieve a rate per 1,000 registered patients.\"))\n",
    "display(Markdown(\"**Note:** Prescribing data is based on prescriptions issued within the Electronic Health Record. Prescriptions may not always be dispensed or in some cases the dispensed item may differ from the prescribed item due to the use of a [Serious Shortage Protocol](https://www.nhsbsa.nhs.uk/pharmacies-gp-practices-and-appliance-contractors/serious-shortage-protocols-ssps).\"))\n",
    "display(Markdown(f\"The first two charts show the most used codes within the {code} codelist. The table lists the top 5 codes after summing code usage over the entire study period. The proportion was computed after rounding. If more than 5 codes in the codelist are used, the proportion will not add up to 1.\"))\n",
    "display_top_5(f\"top_5_code_table_event_code_{path}_rate.csv\", dir=WEEKLY_RESULTS_DIR)\n",
    "display(Markdown(\"The second chart illustrates code usage over time. Codes that were in the top 5 either in the first or last week of the study period were included.\"))\n",
    "display_image(f\"event_code_{path}_rate_top_5_codes_over_time.png\", dir=WEEKLY_RESULTS_DIR)\n",
    "display(Markdown(f\"The below charts show the weekly count and rate of patients with recorded {code} events across the study period, with a breakdown by key demographic subgroups.\"))\n",
    "display(Markdown(\"##### Count\"))\n",
    "display_image(f\"{path}_by_subgroup_count.png\", dir=WEEKLY_RESULTS_DIR)\n",
    "display(Markdown(\"##### Rate\"))\n",
    "display_image(f\"{path}_by_subgroup.png\", dir=WEEKLY_RESULTS_DIR)"
   ]
  },
  {
   "cell_type": "code",
   "execution_count": null,
   "metadata": {},
   "outputs": [],
   "source": [
    "code = 'cefalexin'\n",
    "path = 'cefalexin'\n",
    "display(Markdown(\"#### Cefalexin [(Codelist)](https://www.opencodelists.org/codelist/opensafely/cefalexin-oral/4eeb4e44/)\"))\n",
    "display(Markdown(f\"Below is a description of the patients prescribed cefalexin between {start_date} and {end_date}. The codelist used to identify cefalexin is [here](https://www.opencodelists.org/codelist/opensafely/cefalexin-oral/4eeb4e44/). Counts <=5 were redacted and all numbers were rounded to the nearest 10.\"))\n",
    "display(Markdown(\"**Counts:** represent patients with at least one prescription event in that week. Patients with more than one of the same prescription in a week were only counted once.\"))\n",
    "display(Markdown(\"**Rates:** divide the count by the included study population and multiply by 1,000 to achieve a rate per 1,000 registered patients.\"))\n",
    "display(Markdown(\"**Note:** Prescribing data is based on prescriptions issued within the Electronic Health Record. Prescriptions may not always be dispensed or in some cases the dispensed item may differ from the prescribed item due to the use of a [Serious Shortage Protocol](https://www.nhsbsa.nhs.uk/pharmacies-gp-practices-and-appliance-contractors/serious-shortage-protocols-ssps).\"))\n",
    "display(Markdown(f\"The first two charts show the most used codes within the {code} codelist. The table lists the top 5 codes after summing code usage over the entire study period. The proportion was computed after rounding. If more than 5 codes in the codelist are used, the proportion will not add up to 1.\"))\n",
    "display_top_5(f\"top_5_code_table_event_code_{path}_rate.csv\", dir=WEEKLY_RESULTS_DIR)\n",
    "display(Markdown(\"The second chart illustrates code usage over time. Codes that were in the top 5 either in the first or last week of the study period were included.\"))\n",
    "display_image(f\"event_code_{path}_rate_top_5_codes_over_time.png\", dir=WEEKLY_RESULTS_DIR)\n",
    "display(Markdown(f\"The below charts show the weekly count and rate of patients with recorded {code} events across the study period, with a breakdown by key demographic subgroups.\"))\n",
    "display(Markdown(\"##### Count\"))\n",
    "display_image(f\"{path}_by_subgroup_count.png\", dir=WEEKLY_RESULTS_DIR)\n",
    "display(Markdown(\"##### Rate\"))\n",
    "display_image(f\"{path}_by_subgroup.png\", dir=WEEKLY_RESULTS_DIR)"
   ]
  },
  {
   "cell_type": "code",
   "execution_count": null,
   "metadata": {},
   "outputs": [],
   "source": [
    "code = 'co-amoxiclav'\n",
    "path = 'co_amoxiclav'\n",
    "display(Markdown(\"#### Co-amoxiclav [(Codelist)](https://www.opencodelists.org/codelist/opensafely/co-amoxiclav-oral/67fac179/)\"))\n",
    "display(Markdown(f\"Below is a description of the patients prescribed co-amoxiclav between {start_date} and {end_date}. The codelist used to identify co-amoxiclav is [here](https://www.opencodelists.org/codelist/opensafely/co-amoxiclav-oral/67fac179/). Counts <=5 were redacted and all numbers were rounded to the nearest 10.\"))\n",
    "display(Markdown(\"**Counts:** represent patients with at least one prescription event in that week. Patients with more than one of the same prescription in a week were only counted once.\"))\n",
    "display(Markdown(\"**Rates:** divide the count by the included study population and multiply by 1,000 to achieve a rate per 1,000 registered patients.\"))\n",
    "display(Markdown(\"**Note:** Prescribing data is based on prescriptions issued within the Electronic Health Record. Prescriptions may not always be dispensed or in some cases the dispensed item may differ from the prescribed item due to the use of a [Serious Shortage Protocol](https://www.nhsbsa.nhs.uk/pharmacies-gp-practices-and-appliance-contractors/serious-shortage-protocols-ssps).\"))\n",
    "display(Markdown(f\"The first two charts show the most used codes within the {code} codelist. The table lists the top 5 codes after summing code usage over the entire study period. The proportion was computed after rounding. If more than 5 codes in the codelist are used, the proportion will not add up to 1.\"))\n",
    "display_top_5(f\"top_5_code_table_event_code_{path}_rate.csv\", dir=WEEKLY_RESULTS_DIR)\n",
    "display(Markdown(\"The second chart illustrates code usage over time. Codes that were in the top 5 either in the first or last week of the study period were included.\"))\n",
    "display_image(f\"event_code_{path}_rate_top_5_codes_over_time.png\", dir=WEEKLY_RESULTS_DIR)\n",
    "display(Markdown(f\"The below charts show the weekly count and rate of patients with recorded {code} events across the study period, with a breakdown by key demographic subgroups.\"))\n",
    "display(Markdown(\"##### Count\"))\n",
    "display_image(f\"{path}_by_subgroup_count.png\", dir=WEEKLY_RESULTS_DIR)\n",
    "display(Markdown(\"##### Rate\"))\n",
    "display_image(f\"{path}_by_subgroup.png\", dir=WEEKLY_RESULTS_DIR)"
   ]
  },
  {
   "attachments": {},
   "cell_type": "markdown",
   "metadata": {},
   "source": [
    "<a id=\"clinical\"></a>\n",
    "\n",
    "## Recorded Clinical Events\n",
    "\n",
    "The below charts show the count and rate of patients with a recording of the following clincial events each week: scarlet fever, sore throat/tonsillitis and invasive strep A.\n",
    "\n"
   ]
  },
  {
   "attachments": {},
   "cell_type": "markdown",
   "metadata": {},
   "source": [
    "<a id=\"any_clinical\"></a>"
   ]
  },
  {
   "cell_type": "code",
   "execution_count": null,
   "metadata": {},
   "outputs": [],
   "source": [
    "display(Markdown(\"#### Any clinical\"))\n",
    "display(Markdown(\"Counts <=5 were redacted and all numbers were rounded to the nearest 10.\"))\n",
    "display(Markdown(\"**Counts:** represent patients with at least one clinical event in that week. Patients with more than one of the same clinical event in a week were only counted once.\"))\n",
    "display(Markdown(\"**Rates:** divide the count by the included study population and multiply by 1,000 to achieve a rate per 1,000 registered patients.\"))\n",
    "display(Markdown(\"**Notes:** Clinical events data is based on a clinical code being added to a patients record. This is often added by a clinician during a consultation to indicate the presence of a sign/symptom (e.g. sore throat) or that a clinical diagnosis has been made (e.g. Scarlet Fever). These codes do not necessarily indicate positive test results.\"))\n",
    "display(Markdown(\"The below charts show the count of patients with any of the above listed clinical events each week, followed by a table with the underlying counts.\"))\n",
    "display_image(\"clinical_bar_measures_count.jpeg\", dir=WEEKLY_RESULTS_DIR)\n",
    "display_table(\"event_counts_clinical.csv\", dir=WEEKLY_RESULTS_DIR)\n",
    "display(Markdown(\"The below charts show the weekly count and rate of patients with any of the listed clinical events across the study period, with a breakdown by key demographic subgroups.\"))\n",
    "display(Markdown(\"##### Count\"))\n",
    "display_image(\"clinical_any_by_subgroup_count.png\", dir=WEEKLY_RESULTS_DIR)\n",
    "display(Markdown(\"##### Rate\"))\n",
    "display_image(\"clinical_any_by_subgroup.png\", dir=WEEKLY_RESULTS_DIR)"
   ]
  },
  {
   "attachments": {},
   "cell_type": "markdown",
   "metadata": {},
   "source": [
    "<a id=\"scarlet_fever\"></a>"
   ]
  },
  {
   "cell_type": "code",
   "execution_count": null,
   "metadata": {},
   "outputs": [],
   "source": [
    "code = 'scarlet fever'\n",
    "path = 'scarlet_fever'\n",
    "display(Markdown(\"#### Scarlet Fever [(Codelist)](https://www.opencodelists.org/codelist/user/chriswood/scarlet-fever/1ba70f02/)\"))\n",
    "display(Markdown(f\"Below is a description of the patients with recorded events of scarlet fever between {start_date} and {end_date}. The codelist used to identify scarlet fever is [here](https://www.opencodelists.org/codelist/user/chriswood/scarlet-fever/1ba70f02/). Counts <=5 were redacted and all numbers were rounded to the nearest 10.\"))\n",
    "display(Markdown(\"**Counts:** represent patients with at least one prescription event in that week. Patients with more than one of the same prescription in a week were only counted once.\"))\n",
    "display(Markdown(\"**Rates:** divide the count by the included study population and multiply by 1,000 to achieve a rate per 1,000 registered patients.\"))\n",
    "display(Markdown(\"**Notes:** Clinical events data is based on a clinical code being added to a patients record. This is often added by a clinician during a consultation to indicate the presence of a sign/symptom (e.g. sore throat) or that a clinical diagnosis has been made (e.g. Scarlet Fever). These codes do not necessarily indicate positive test results.\"))\n",
    "display(Markdown(f\"The first two charts show the most used codes within the {code} codelist. The table lists the top 5 codes after summing code usage over the entire study period. The proportion was computed after rounding. If more than 5 codes in the codelist are used, the proportion will not add up to 1.\"))\n",
    "display_top_5(f\"top_5_code_table_event_code_{path}_rate.csv\", dir=WEEKLY_RESULTS_DIR)\n",
    "display(Markdown(\"The second chart illustrates code usage over time. Codes that were in the top 5 either in the first or last week of the study period were included.\"))\n",
    "display_image(f\"event_code_{path}_rate_top_5_codes_over_time.png\", dir=WEEKLY_RESULTS_DIR)\n",
    "display(Markdown(f\"The below charts show the weekly count and rate of patients with recorded {code} events across the study period, with a breakdown by key demographic subgroups.\"))\n",
    "display(Markdown(\"##### Count\"))\n",
    "display_image(f\"{path}_by_subgroup_count.png\", dir=WEEKLY_RESULTS_DIR)\n",
    "display(Markdown(\"##### Rate\"))\n",
    "display_image(f\"{path}_by_subgroup.png\", dir=WEEKLY_RESULTS_DIR)"
   ]
  },
  {
   "attachments": {},
   "cell_type": "markdown",
   "metadata": {},
   "source": [
    "<a id=\"strep_a\"></a>"
   ]
  },
  {
   "cell_type": "code",
   "execution_count": null,
   "metadata": {},
   "outputs": [],
   "source": [
    "code = 'sore throat/tonsillitis'\n",
    "path = 'sore_throat_tonsillitis'\n",
    "display(Markdown(\"#### Sore Throat/Tonsillitis [(Codelist)](https://www.opencodelists.org/codelist/user/chriswood/group-a-streptococcal-sore-throat/2924ced0/)\"))\n",
    "display(Markdown(f\"Below is a description of the patients with recorded events of sore throat/tonsillitis between {start_date} and {end_date}. The codelist used to identify sore throat/tonsillitis is [here](https://www.opencodelists.org/codelist/user/chriswood/group-a-streptococcal-sore-throat/2924ced0/). Counts <=5 were redacted and all numbers were rounded to the nearest 10.\"))\n",
    "display(Markdown(\"**Counts:** represent patients with at least one prescription event in that week. Patients with more than one of the same prescription in a week were only counted once.\"))\n",
    "display(Markdown(\"**Rates:** divide the count by the included study population and multiply by 1,000 to achieve a rate per 1,000 registered patients.\"))\n",
    "display(Markdown(\"**Notes:** Clinical events data is based on a clinical code being added to a patients record. This is often added by a clinician during a consultation to indicate the presence of a sign/symptom (e.g. sore throat) or that a clinical diagnosis has been made (e.g. Scarlet Fever). These codes do not necessarily indicate positive test results.\"))\n",
    "display(Markdown(f\"The first two charts show the most used codes within the {code} codelist. The table lists the top 5 codes after summing code usage over the entire study period. The proportion was computed after rounding. If more than 5 codes in the codelist are used, the proportion will not add up to 1.\"))\n",
    "display_top_5(f\"top_5_code_table_event_code_strep_a_sore_throat_rate.csv\", dir=WEEKLY_RESULTS_DIR)\n",
    "display(Markdown(\"The second chart illustrates code usage over time. Codes that were in the top 5 either in the first or last week of the study period were included.\"))\n",
    "display_image(f\"event_code_strep_a_sore_throat_rate_top_5_codes_over_time.png\", dir=WEEKLY_RESULTS_DIR)\n",
    "display(Markdown(f\"The below charts show the weekly count and rate of patients with recorded {code} events across the study period, with a breakdown by key demographic subgroups.\"))\n",
    "display(Markdown(\"##### Count\"))\n",
    "display_image(f\"{path}_by_subgroup_count.png\", dir=WEEKLY_RESULTS_DIR)\n",
    "display(Markdown(\"##### Rate\"))\n",
    "display_image(f\"{path}_by_subgroup.png\", dir=WEEKLY_RESULTS_DIR)"
   ]
  },
  {
   "attachments": {},
   "cell_type": "markdown",
   "metadata": {},
   "source": [
    "<a id=\"igas\"></a>"
   ]
  },
  {
   "cell_type": "code",
   "execution_count": null,
   "metadata": {},
   "outputs": [],
   "source": [
    "code = 'invasive strep a'\n",
    "path = 'invasive_strep_a'\n",
    "display(Markdown(\"#### Invasive strep a [(Codelist)](https://www.opencodelists.org/codelist/user/chriswood/invasive-group-a-strep/42344205/)\"))\n",
    "display(Markdown(f\"Below is a description of the patients with recorded events of invasive strep a between {start_date} and {end_date}. The codelist used to identify invasive strep a is [here](https://www.opencodelists.org/codelist/user/chriswood/invasive-group-a-strep/42344205/). Counts <=5 were redacted and all numbers were rounded to the nearest 10.\"))\n",
    "display(Markdown(\"**Counts:** represent patients with at least one prescription event in that week. Patients with more than one of the same prescription in a week were only counted once.\"))\n",
    "display(Markdown(\"**Rates:** divide the count by the included study population and multiply by 1,000 to achieve a rate per 1,000 registered patients.\"))\n",
    "display(Markdown(\"**Notes:** Clinical events data is based on a clinical code being added to a patients record. This is often added by a clinician during a consultation to indicate the presence of a sign/symptom (e.g. sore throat) or that a clinical diagnosis has been made (e.g. Scarlet Fever). These codes do not necessarily indicate positive test results.\"))\n",
    "display(Markdown(f\"This chart show the most used codes within the {code} codelist. The table lists the top 5 codes after summing code usage over the entire study period. The proportion was computed after rounding. If more than 5 codes in the codelist are used, the proportion will not add up to 1.\"))\n",
    "display_top_5(f\"top_5_code_table_event_code_{path}_rate.csv\", dir=WEEKLY_RESULTS_DIR)"
   ]
  }
 ],
 "metadata": {
  "kernelspec": {
   "display_name": "OpenSAFELY",
   "language": "python",
   "name": "python3"
  },
  "language_info": {
   "codemirror_mode": {
    "name": "ipython",
    "version": 3
   },
   "file_extension": ".py",
   "mimetype": "text/x-python",
   "name": "python",
   "nbconvert_exporter": "python",
   "pygments_lexer": "ipython3",
   "version": "3.9.6 (tags/v3.9.6:db3ff76, Jun 28 2021, 15:26:21) [MSC v.1929 64 bit (AMD64)]"
  },
  "orig_nbformat": 4,
  "vscode": {
   "interpreter": {
    "hash": "bcc1f730df8fb5742a3ac26bd3a31839bd02ad4e73a558e52498dfe16975ce60"
   }
  }
 },
 "nbformat": 4,
 "nbformat_minor": 2
}
