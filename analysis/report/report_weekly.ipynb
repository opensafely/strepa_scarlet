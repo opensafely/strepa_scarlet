{
 "cells": [
  {
   "cell_type": "code",
   "execution_count": null,
   "metadata": {},
   "outputs": [],
   "source": [
    "import numpy as np\n",
    "from IPython.display import Markdown\n",
    "from PIL import Image\n",
    "\n",
    "from report_utils import (\n",
    "    display_table,\n",
    "    display_image,\n",
    "    display_top_5,\n",
    "    WEEKLY_RESULTS_DIR,\n",
    "    display_standard_medicine,\n",
    "    display_standard_clinical,\n",
    "    display_medicine,\n",
    "    display_clinical,\n",
    ")\n",
    "\n",
    "start_date = '01-09-22'\n",
    "end_date = '22-03-23'\n",
    "\n",
    "display(Markdown(f'# <center>Group A streptococcal cases and treatments during the COVID-19 pandemic: a rapid report'))\n",
    "display(Markdown(f'### <center>{start_date} through {end_date} by week'))"
   ]
  },
  {
   "attachments": {},
   "cell_type": "markdown",
   "metadata": {},
   "source": [
    "<a id=\"backgound\"></a>\n",
    "\n",
    "## Background\n",
    "\n",
    "During the COVID-19 pandemic there has been a substantial change to the pattern of circulating viruses and bacteria that cause illnesses. In order to support ongoing response and recovery of NHS services from the COVID-19 pandemic, it is useful to have detailed information on patterns of disease being reported by the NHS and on treatments such as antibiotics.\n",
    "\n",
    "In the winter of [22/23 UKHSA (December 8th) reported](https://www.gov.uk/government/news/ukhsa-update-on-scarlet-fever-and-invasive-group-a-strep-1) an unseasonal increase of scarlet fever and group A streptococcus infections. Sadly, between 19th September 2022 and 15th January 2023 there have been 211 deaths in England across all age groups, including 30 children under 18. UKHSA indicates that the increase is likely to reflect increased susceptibility to these infections in children due to low numbers of cases during the COVID-19 pandemic, along with current circulation of respiratory viruses.\n",
    "\n",
    "This rapid report describes changes in the recording of diagnoses and symptoms related to group A streptococcal infection and the prescribing of antibiotics used to treat group A streptococcal infection. We will routinely update the data in this report and invite anyone who finds it useful to get in touch and tell us how you use this report or new features you'd like to see.\n",
    "\n",
    "## Methods\n",
    "\n",
    "This study used data from OpenSAFELY-TPP, which covers 40% of the population of England. For a description of the representativeness of this sample, please see our manuscript [here](https://doi.org/10.12688/wellcomeopenres.18010.1). Individuals were included if they were alive and registered at a TPP practice each week, across the study period. Patients were excluded if their listed age was not between 0 and 120 years.\n",
    "\n",
    "Counts represent patients with at least one prescription or clinical event in that week. Patients with more than one of the same prescription or clinical event in a week were only counted once. Rates divide the count by the included study population and multiply by 1,000 to achieve a rate per 1,000 registered patients.\n",
    "\n",
    "Counts <=5 have been redacted and all numbers rounded to the nearest 10 to avoid potential re-identification of individuals. The rates displayed were computed with these rounded counts.\n",
    "\n",
    "Prescribing data is based on prescriptions issued within the Electronic Health Record. Prescriptions may not always be dispensed or in some cases the dispensed item may differ from the prescribed item due to the use of a [Serious Shortage Protocol](https://www.nhsbsa.nhs.uk/pharmacies-gp-practices-and-appliance-contractors/serious-shortage-protocols-ssps).\n",
    "\n",
    "Clinical events data is based on a clinical code being added to a patient's record. This is often added by a clinician during a consultation to indicate the presence of a sign/symptom (e.g. sore throat) or that a clinical diagnosis has been made (e.g. Scarlet Fever). These codes do not necessarily indicate positive test results.\n",
    "\n",
    "Weeks run Thursday to Wednesday to enable the extraction of the most up-to-date data.\n",
    "\n",
    "Links to the codelist for each analysis can be found beneath the relevant section.\n",
    "\n"
   ]
  },
  {
   "attachments": {},
   "cell_type": "markdown",
   "metadata": {},
   "source": [
    "<ul id=\"docNav\">\n",
    "    <p>This report contains the following sections</p>\n",
    "    <li> <a href=\"#prescribing\">Antibiotic Prescribing</a>\n",
    "        <ul>\n",
    "            <li> <a href=\"#any_antibiotic\">Any antibiotic</a>\n",
    "            <li> <a href=\"#pen\">Phenoxymethylpenicillin</a>\n",
    "            <li> <a href=\"#amoxicillin\">Amoxicillin</a>\n",
    "            <li> <a href=\"#clarithromycin\">Clarithromycin</a>\n",
    "            <li> <a href=\"#erythromycin\">Erythromycin</a>\n",
    "            <li> <a href=\"#azithromycin\">Azithromycin</a>\n",
    "            <li> <a href=\"#flucloxacillin\">Flucloxacillin</a>\n",
    "            <li> <a href=\"#cefalexin\">Cefalexin</a>\n",
    "            <li> <a href=\"#co-amoxiclav\">Co-amoxiclav</a>\n",
    "        </ul>\n",
    "    <li> <a href=\"#clinical\">Recorded Clinical Events</a>\n",
    "        <ul>\n",
    "            <li> <a href=\"#any_clinical\">Any clinical</a>\n",
    "            <li> <a href=\"#scarlet_fever\">Scarlet Fever</a>\n",
    "            <li> <a href=\"#strep_a\">Sore Throat/Tonsillitis</a>\n",
    "            <li> <a href=\"#igas\">Invasive Strep A</a>\n",
    "        </ul>\n",
    "</ul>"
   ]
  },
  {
   "attachments": {},
   "cell_type": "markdown",
   "metadata": {},
   "source": [
    "<a id=\"prescribing\"></a>\n",
    "\n",
    "## Antibiotic Prescribing\n",
    "\n",
    "The below charts show the count and rate of patients prescribed the following antibiotics each week: phenoxymethylpenicillin, amoxicillin, clarithromycin, erythromycin, azithromycin, flucloxacillin, cefalexin and co-amoxiclav. This is based on the antibiotic recommendation given in [NHS England Group A streptococcus in children: Interim clinical guidance summary 22nd December 2022.](https://www.england.nhs.uk/publication/group-a-streptococcus-communications-to-clinicians)\n",
    "\n"
   ]
  },
  {
   "attachments": {},
   "cell_type": "markdown",
   "metadata": {},
   "source": [
    "<a id=\"any_antibiotic\"></a>"
   ]
  },
  {
   "cell_type": "code",
   "execution_count": null,
   "metadata": {},
   "outputs": [],
   "source": [
    "display(Markdown(\"### Any antibiotic\"))\n",
    "display_standard_medicine(time_period='week')\n",
    "display(Markdown(\"The below charts show the count of patients prescribed any of the above listed antibiotics each week, followed by a table with the underlying counts.\"))\n",
    "display_image(\"medications_bar_measures_count.jpeg\", dir=WEEKLY_RESULTS_DIR)\n",
    "display_table(\"event_counts_medication.csv\", dir=WEEKLY_RESULTS_DIR)\n",
    "display(Markdown(\"The below charts show the weekly count and rate of patients with any of the listed antibiotics across the study period, with a breakdown by key demographic subgroups.\"))\n",
    "display(Markdown(\"##### Count\"))\n",
    "display_image(\"medication_any_by_subgroup_count.png\", dir=WEEKLY_RESULTS_DIR)\n",
    "display(Markdown(\"##### Rate\"))\n",
    "display_image(\"medication_any_by_subgroup.png\", dir=WEEKLY_RESULTS_DIR)"
   ]
  },
  {
   "attachments": {},
   "cell_type": "markdown",
   "metadata": {},
   "source": [
    "<a id=\"pen\"></a>"
   ]
  },
  {
   "cell_type": "code",
   "execution_count": null,
   "metadata": {},
   "outputs": [],
   "source": [
    "display_medicine('phenoxymethylpenicillin', 'phenoxymethylpenicillin', start_date, end_date, time_period='week')"
   ]
  },
  {
   "attachments": {},
   "cell_type": "markdown",
   "metadata": {},
   "source": [
    "<a id=\"amoxicillin\"></a>"
   ]
  },
  {
   "cell_type": "code",
   "execution_count": null,
   "metadata": {},
   "outputs": [],
   "source": [
    "display_medicine('amoxicillin', 'amoxicillin', start_date, end_date, time_period='week')"
   ]
  },
  {
   "attachments": {},
   "cell_type": "markdown",
   "metadata": {},
   "source": [
    "<a id=\"clarithromycin\"></a>"
   ]
  },
  {
   "cell_type": "code",
   "execution_count": null,
   "metadata": {},
   "outputs": [],
   "source": [
    "display_medicine('clarithromycin', 'clarithromycin', start_date, end_date, time_period='week')"
   ]
  },
  {
   "attachments": {},
   "cell_type": "markdown",
   "metadata": {},
   "source": [
    "<a id=\"erythromycin\"></a>"
   ]
  },
  {
   "cell_type": "code",
   "execution_count": null,
   "metadata": {},
   "outputs": [],
   "source": [
    "display_medicine('erythromycin', 'erythromycin', start_date, end_date, time_period='week')"
   ]
  },
  {
   "attachments": {},
   "cell_type": "markdown",
   "metadata": {},
   "source": [
    "<a id=\"azithromycin\"></a>"
   ]
  },
  {
   "cell_type": "code",
   "execution_count": null,
   "metadata": {},
   "outputs": [],
   "source": [
    "display_medicine('azithromycin', 'azithromycin', start_date, end_date, time_period='week')"
   ]
  },
  {
   "attachments": {},
   "cell_type": "markdown",
   "metadata": {},
   "source": [
    "<a id=\"flucloxacillin\"></a>"
   ]
  },
  {
   "cell_type": "code",
   "execution_count": null,
   "metadata": {},
   "outputs": [],
   "source": [
    "display_medicine('flucloxacillin', 'flucloxacillin', start_date, end_date, time_period='week')"
   ]
  },
  {
   "cell_type": "code",
   "execution_count": null,
   "metadata": {},
   "outputs": [],
   "source": [
    "display_medicine('cefalexin', 'cefalexin', start_date, end_date, time_period='week')"
   ]
  },
  {
   "cell_type": "code",
   "execution_count": null,
   "metadata": {},
   "outputs": [],
   "source": [
    "display_medicine('co_amoxiclav', 'co-amoxiclav', start_date, end_date, time_period='week')"
   ]
  },
  {
   "attachments": {},
   "cell_type": "markdown",
   "metadata": {},
   "source": [
    "<a id=\"clinical\"></a>\n",
    "\n",
    "## Recorded Clinical Events\n",
    "\n",
    "The below charts show the count and rate of patients with a recording of the following clincial events each week: scarlet fever, sore throat/tonsillitis and invasive strep A.\n",
    "\n"
   ]
  },
  {
   "attachments": {},
   "cell_type": "markdown",
   "metadata": {},
   "source": [
    "<a id=\"any_clinical\"></a>"
   ]
  },
  {
   "cell_type": "code",
   "execution_count": null,
   "metadata": {},
   "outputs": [],
   "source": [
    "display(Markdown(\"### Any clinical\"))\n",
    "display_standard_clinical(time_period='week')\n",
    "display(Markdown(\"The below charts show the count of patients with any of the above listed clinical events each week, followed by a table with the underlying counts.\"))\n",
    "display_image(\"clinical_bar_measures_count.jpeg\", dir=WEEKLY_RESULTS_DIR)\n",
    "display_table(\"event_counts_clinical.csv\", dir=WEEKLY_RESULTS_DIR)\n",
    "display(Markdown(\"The below charts show the weekly count and rate of patients with any of the listed clinical events across the study period, with a breakdown by key demographic subgroups.\"))\n",
    "display(Markdown(\"##### Count\"))\n",
    "display_image(\"clinical_any_by_subgroup_count.png\", dir=WEEKLY_RESULTS_DIR)\n",
    "display(Markdown(\"##### Rate\"))\n",
    "display_image(\"clinical_any_by_subgroup.png\", dir=WEEKLY_RESULTS_DIR)"
   ]
  },
  {
   "attachments": {},
   "cell_type": "markdown",
   "metadata": {},
   "source": [
    "<a id=\"scarlet_fever\"></a>"
   ]
  },
  {
   "cell_type": "code",
   "execution_count": null,
   "metadata": {},
   "outputs": [],
   "source": [
    "display_clinical('scarlet_fever', 'scarlet fever', start_date, end_date, time_period='week')"
   ]
  },
  {
   "attachments": {},
   "cell_type": "markdown",
   "metadata": {},
   "source": [
    "<a id=\"strep_a\"></a>"
   ]
  },
  {
   "cell_type": "code",
   "execution_count": null,
   "metadata": {},
   "outputs": [],
   "source": [
    "display_clinical('sore_throat_tonsillitis', 'sore throat/tonsillitis', start_date, end_date, time_period='week')"
   ]
  },
  {
   "attachments": {},
   "cell_type": "markdown",
   "metadata": {},
   "source": [
    "<a id=\"igas\"></a>"
   ]
  },
  {
   "cell_type": "code",
   "execution_count": null,
   "metadata": {},
   "outputs": [],
   "source": [
    "display_clinical('invasive_strep_a', 'invasive strep a', start_date, end_date, time_period='week', include_minimum=True)"
   ]
  }
 ],
 "metadata": {
  "kernelspec": {
   "display_name": "OpenSAFELY",
   "language": "python",
   "name": "python3"
  },
  "language_info": {
   "codemirror_mode": {
    "name": "ipython",
    "version": 3
   },
   "file_extension": ".py",
   "mimetype": "text/x-python",
   "name": "python",
   "nbconvert_exporter": "python",
   "pygments_lexer": "ipython3",
   "version": "3.9.6 (tags/v3.9.6:db3ff76, Jun 28 2021, 15:26:21) [MSC v.1929 64 bit (AMD64)]"
  },
  "orig_nbformat": 4,
  "vscode": {
   "interpreter": {
    "hash": "bcc1f730df8fb5742a3ac26bd3a31839bd02ad4e73a558e52498dfe16975ce60"
   }
  }
 },
 "nbformat": 4,
 "nbformat_minor": 2
}
